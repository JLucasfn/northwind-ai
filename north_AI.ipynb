{
 "cells": [
  {
   "cell_type": "code",
   "execution_count": null,
   "metadata": {},
   "outputs": [],
   "source": [
    "# Recomendo manter as mesmas versões abaixo para evitar problemas de compatibilidade\n",
    "# !pip install transformers==4.30.2 e tensorflow==2.15.0\n",
    "import transformers\n",
    "from transformers import pipeline"
   ]
  },
  {
   "cell_type": "code",
   "execution_count": null,
   "metadata": {},
   "outputs": [],
   "source": [
    "# Cria uma pipeline de perguntas e respostas utilizando o modelo BERT em português pré-treinado no dataset SQuAD v1.1\n",
    "# Modelo: \"pierreguillou/bert-base-cased-squad-v1.1-portuguese\"\n",
    "# Documentação: \"https://huggingface.co/pierreguillou/bert-base-cased-squad-v1.1-portuguese\"\n",
    "\n",
    "# Esta pipeline permite responder perguntas baseadas em um contexto fornecido.\n",
    "qea = pipeline(\"question-answering\", model = \"pierreguillou/bert-base-cased-squad-v1.1-portuguese\")"
   ]
  },
  {
   "cell_type": "code",
   "execution_count": 3,
   "metadata": {},
   "outputs": [],
   "source": [
    "# O contexto para responder as perguntas\n",
    "file_content = 'context.txt'\n",
    "\n",
    "# Abrir o arquivo no modo de leitura\n",
    "with open(file_content, 'r', encoding='utf-8') as file:\n",
    "    # Ler o conteúdo do arquivo e armazena-o em uma variável\n",
    "    contexto = file.read()"
   ]
  },
  {
   "cell_type": "code",
   "execution_count": null,
   "metadata": {},
   "outputs": [],
   "source": [
    "pergunta  = \"Quantos pedidos a empresa obteve?\"\n",
    "resposta = qea(question=pergunta, context=contexto)\n",
    "print(\"Pergunta:\", pergunta)\n",
    "# Definição de uma precisão mínima de 54% para mostrar a resposta do modelo\n",
    "if (resposta['score'] >= 0.54):\n",
    "  print(\"Resposta:\", resposta['answer'].capitalize() + \".\")\n",
    "  print(f\"Precisão na resposta: {resposta['score'] * 100:.2f}%\")\n",
    "else:\n",
    "  print('Resposta: O modelo não tem dados suficientes para responder a pergunta com uma precisão adequada.')\n",
    "  print(f\"Precisão na resposta: {resposta['score'] * 100:.2f}%\")"
   ]
  }
 ],
 "metadata": {
  "kernelspec": {
   "display_name": "Python 3",
   "language": "python",
   "name": "python3"
  },
  "language_info": {
   "codemirror_mode": {
    "name": "ipython",
    "version": 3
   },
   "file_extension": ".py",
   "mimetype": "text/x-python",
   "name": "python",
   "nbconvert_exporter": "python",
   "pygments_lexer": "ipython3",
   "version": "3.11.3"
  }
 },
 "nbformat": 4,
 "nbformat_minor": 2
}
